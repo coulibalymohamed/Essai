{
  "nbformat": 4,
  "nbformat_minor": 0,
  "metadata": {
    "colab": {
      "provenance": [],
      "authorship_tag": "ABX9TyNzNgaL/X5dVWD+/bDDnI7l",
      "include_colab_link": true
    },
    "kernelspec": {
      "name": "python3",
      "display_name": "Python 3"
    },
    "language_info": {
      "name": "python"
    }
  },
  "cells": [
    {
      "cell_type": "markdown",
      "metadata": {
        "id": "view-in-github",
        "colab_type": "text"
      },
      "source": [
        "<a href=\"https://colab.research.google.com/github/coulibalymohamed/python/blob/main/suite%20exo1.ipynb\" target=\"_parent\"><img src=\"https://colab.research.google.com/assets/colab-badge.svg\" alt=\"Open In Colab\"/></a>"
      ]
    },
    {
      "cell_type": "code",
      "execution_count": 22,
      "metadata": {
        "colab": {
          "base_uri": "https://localhost:8080/"
        },
        "id": "FWYa8Jw9tI16",
        "outputId": "8a489000-afb6-44c8-8f13-20dbfb452a0b"
      },
      "outputs": [
        {
          "output_type": "stream",
          "name": "stdout",
          "text": [
            "Albert Einstein a dit un jour : \"Une personne qui n'a jamais fait d'erreur n'a jamais rien essayé de nouveau.\"\n"
          ]
        }
      ],
      "source": [
        "# Mohamed COULIBALY 30/05/23: (ce programme affiche le message écrit avec guiemets)\n",
        "'Albert Einstein a dit un jour : \"Une personne qui n\\'a jamais fait d\\'erreur n\\'a jamais rien essayé de nouveau.'\n",
        "print('Albert Einstein a dit un jour : \"Une personne qui n\\'a jamais fait d\\'erreur n\\'a jamais rien essayé de nouveau.\"')"
      ]
    },
    {
      "cell_type": "code",
      "source": [
        "# Mohamed COULIBALY 30/05/23: (ce programme concatène une chaîne de caractère avec un entier)\n",
        "age = 23\n",
        "message = \"Joyeux \" + str (age) + \" ème aniversaire!\"\n",
        "print(message)"
      ],
      "metadata": {
        "colab": {
          "base_uri": "https://localhost:8080/"
        },
        "id": "8-4nVM9g8Kvk",
        "outputId": "9ead4cef-5c67-4741-c9f3-c3493a0f1232"
      },
      "execution_count": 29,
      "outputs": [
        {
          "output_type": "stream",
          "name": "stdout",
          "text": [
            "Joyeux 23 ème aniversaire!\n"
          ]
        }
      ]
    },
    {
      "cell_type": "code",
      "source": [
        "# Mohamed COULIBALY 30/05/23: (ce programme effectue les quatres oppérations add, soust, mult et div qui donne chacune 8 comme résultat)\n",
        "print(4+4)\n",
        "print(12-4)\n",
        "print(4*2)\n",
        "print(16/2)"
      ],
      "metadata": {
        "colab": {
          "base_uri": "https://localhost:8080/"
        },
        "id": "8fy7idpj-lx3",
        "outputId": "5558aa71-c200-4bc6-d14d-13720ba7b164"
      },
      "execution_count": 31,
      "outputs": [
        {
          "output_type": "stream",
          "name": "stdout",
          "text": [
            "8\n",
            "8\n",
            "8\n",
            "8.0\n"
          ]
        }
      ]
    },
    {
      "cell_type": "code",
      "source": [
        "# Mohamed COULIBALY 30/05/23: (ce programme affiche mon nombre préféré)\n",
        "nombr_préfré = 12\n",
        "message = \"mon \" + \"nombre \" + \"préféré \" + \"est \" + str (nombr_préfré)\n",
        "print(message)"
      ],
      "metadata": {
        "colab": {
          "base_uri": "https://localhost:8080/"
        },
        "id": "3QOEVTetAiRG",
        "outputId": "d0382d21-f495-427e-b91f-9b2822ce130c"
      },
      "execution_count": 38,
      "outputs": [
        {
          "output_type": "stream",
          "name": "stdout",
          "text": [
            "mon nombre préféré est 12\n"
          ]
        }
      ]
    },
    {
      "cell_type": "markdown",
      "source": [],
      "metadata": {
        "id": "_NHdvD6BEy4u"
      }
    }
  ]
}