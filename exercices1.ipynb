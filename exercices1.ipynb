{
  "nbformat": 4,
  "nbformat_minor": 0,
  "metadata": {
    "colab": {
      "provenance": [],
      "authorship_tag": "ABX9TyPBFsZ1Mpv3KBjFtjNlIm2X",
      "include_colab_link": true
    },
    "kernelspec": {
      "name": "python3",
      "display_name": "Python 3"
    },
    "language_info": {
      "name": "python"
    }
  },
  "cells": [
    {
      "cell_type": "markdown",
      "metadata": {
        "id": "view-in-github",
        "colab_type": "text"
      },
      "source": [
        "<a href=\"https://colab.research.google.com/github/coulibalymohamed/Essai/blob/main/exercices1.ipynb\" target=\"_parent\"><img src=\"https://colab.research.google.com/assets/colab-badge.svg\" alt=\"Open In Colab\"/></a>"
      ]
    },
    {
      "cell_type": "code",
      "execution_count": 1,
      "metadata": {
        "colab": {
          "base_uri": "https://localhost:8080/"
        },
        "id": "Npi4ZsaUoSg-",
        "outputId": "5196dca9-2e13-400d-cf4c-47d421e202cd"
      },
      "outputs": [
        {
          "output_type": "stream",
          "name": "stdout",
          "text": [
            "Master Telecom\n"
          ]
        }
      ],
      "source": [
        "message = \"Master Telecom\"\n",
        "print(message)"
      ]
    },
    {
      "cell_type": "code",
      "source": [
        "message = \"salut tout le monde\"\n",
        "print(message)\n",
        "message = \"Bonsoir\"\n",
        "print(message)"
      ],
      "metadata": {
        "colab": {
          "base_uri": "https://localhost:8080/"
        },
        "id": "LUChtQwavmYx",
        "outputId": "888830a9-0c9d-46c3-f71f-5c7c3c7f7f17"
      },
      "execution_count": 3,
      "outputs": [
        {
          "output_type": "stream",
          "name": "stdout",
          "text": [
            "salut tout le monde\n",
            "Bonsoir\n"
          ]
        }
      ]
    },
    {
      "cell_type": "code",
      "source": [
        "\"Salut\""
      ],
      "metadata": {
        "colab": {
          "base_uri": "https://localhost:8080/",
          "height": 35
        },
        "id": "JOyjhM76xTsM",
        "outputId": "18968fc0-5061-4e32-af2a-2f609d8f4695"
      },
      "execution_count": 4,
      "outputs": [
        {
          "output_type": "execute_result",
          "data": {
            "text/plain": [
              "'Salut'"
            ],
            "application/vnd.google.colaboratory.intrinsic+json": {
              "type": "string"
            }
          },
          "metadata": {},
          "execution_count": 4
        }
      ]
    },
    {
      "cell_type": "code",
      "source": [
        "'J\\'ai dit à mon ami: \"Python est mon langage préféré!\"'\n",
        "\"Le langage 'Python' porte le nom de Monty Python, pas du serpent.\"\n",
        "\"L'une des forces de Python est sa communauté diversifiée et solidaire.\""
      ],
      "metadata": {
        "colab": {
          "base_uri": "https://localhost:8080/",
          "height": 35
        },
        "id": "_moSwPcUxuKH",
        "outputId": "d4bb55c7-cd56-48bd-ccef-59e41a71bfd8"
      },
      "execution_count": 5,
      "outputs": [
        {
          "output_type": "execute_result",
          "data": {
            "text/plain": [
              "\"L'une des forces de Python est sa communauté diversifiée et solidaire.\""
            ],
            "application/vnd.google.colaboratory.intrinsic+json": {
              "type": "string"
            }
          },
          "metadata": {},
          "execution_count": 5
        }
      ]
    },
    {
      "cell_type": "code",
      "source": [
        "print('J\\'ai dit à mon ami: \"Python est mon langage préféré!\"')\n",
        "print(\"Le langage 'Python' porte le nom de Monty Python, pas du serpent.\")\n",
        "print(\"L'une des forces de Python est sa communauté diversifiée et solidaire.\")"
      ],
      "metadata": {
        "colab": {
          "base_uri": "https://localhost:8080/"
        },
        "id": "eqs4Rup-zGl9",
        "outputId": "c0f1b8c3-fe15-45a3-f01e-91bda7e2999f"
      },
      "execution_count": 6,
      "outputs": [
        {
          "output_type": "stream",
          "name": "stdout",
          "text": [
            "J'ai dit à mon ami: \"Python est mon langage préféré!\"\n",
            "Le langage 'Python' porte le nom de Monty Python, pas du serpent.\n",
            "L'une des forces de Python est sa communauté diversifiée et solidaire.\n"
          ]
        }
      ]
    },
    {
      "cell_type": "code",
      "source": [
        "nom = \"master telecom\"\n",
        "print(nom.title())"
      ],
      "metadata": {
        "colab": {
          "base_uri": "https://localhost:8080/"
        },
        "id": "ORf_stbC0hmm",
        "outputId": "ed6266be-c26c-4cc1-f1b5-17950e1bfd3e"
      },
      "execution_count": 7,
      "outputs": [
        {
          "output_type": "stream",
          "name": "stdout",
          "text": [
            "Master Telecom\n"
          ]
        }
      ]
    },
    {
      "cell_type": "code",
      "source": [
        "nom = \"Master Telecom\"\n",
        "print(nom.upper())\n",
        "print(nom.lower())"
      ],
      "metadata": {
        "colab": {
          "base_uri": "https://localhost:8080/"
        },
        "id": "kbNIEs8U1oWT",
        "outputId": "93011b7b-7335-4bb5-8eff-64085a2dbd27"
      },
      "execution_count": 8,
      "outputs": [
        {
          "output_type": "stream",
          "name": "stdout",
          "text": [
            "MASTER TELECOM\n",
            "master telecom\n"
          ]
        }
      ]
    },
    {
      "cell_type": "code",
      "source": [
        "first_name = \"ould\"\n",
        "middle_name = \"sidilamine\"\n",
        "last_name = \"Mohamed\"\n",
        "full_name = first_name + \" \" + middle_name +\" \"+ last_name\n",
        "print(full_name)"
      ],
      "metadata": {
        "colab": {
          "base_uri": "https://localhost:8080/"
        },
        "id": "8pORUbFl4SG6",
        "outputId": "5a183533-69d4-4f6f-a11e-00d474a394f5"
      },
      "execution_count": 11,
      "outputs": [
        {
          "output_type": "stream",
          "name": "stdout",
          "text": [
            "ould sidilamine Mohamed\n"
          ]
        }
      ]
    },
    {
      "cell_type": "code",
      "source": [
        "  print(\"Python\")\n",
        "  print(\"\\tPython\")"
      ],
      "metadata": {
        "colab": {
          "base_uri": "https://localhost:8080/"
        },
        "id": "Ic3jkZMj6Vfm",
        "outputId": "a0934eae-5842-46e4-eef5-dad99ef9c3bb"
      },
      "execution_count": 16,
      "outputs": [
        {
          "output_type": "stream",
          "name": "stdout",
          "text": [
            "Python\n",
            "\tPython\n"
          ]
        }
      ]
    },
    {
      "cell_type": "code",
      "source": [
        "print(\"Langages:\\nPython\\cC\\nProlog\")"
      ],
      "metadata": {
        "colab": {
          "base_uri": "https://localhost:8080/"
        },
        "id": "AjgUQBK07Bks",
        "outputId": "86cfbd60-3f19-43d1-ae50-3a41acf4b45f"
      },
      "execution_count": 13,
      "outputs": [
        {
          "output_type": "stream",
          "name": "stdout",
          "text": [
            "Langages:\n",
            "Python\\cC\n",
            "Prolog\n"
          ]
        }
      ]
    },
    {
      "cell_type": "code",
      "source": [
        "print(\"Langages:\\n\\t\\tC\\nPython\\cC\\nProlog\")"
      ],
      "metadata": {
        "colab": {
          "base_uri": "https://localhost:8080/"
        },
        "id": "QdZCq3Fs7wWY",
        "outputId": "f92b0359-4034-4daf-a80f-46998facdfa2"
      },
      "execution_count": 15,
      "outputs": [
        {
          "output_type": "stream",
          "name": "stdout",
          "text": [
            "Langages:\n",
            "\t\tC\n",
            "Python\\cC\n",
            "Prolog\n"
          ]
        }
      ]
    },
    {
      "cell_type": "code",
      "source": [
        "langage_favoris = 'Python'\n",
        "langage_favoris \n",
        "langage_favoris.rstrip()"
      ],
      "metadata": {
        "colab": {
          "base_uri": "https://localhost:8080/",
          "height": 35
        },
        "id": "r0blbTXa8prl",
        "outputId": "d0869dad-9ee9-4b3c-f094-3eb642f1c0d3"
      },
      "execution_count": 21,
      "outputs": [
        {
          "output_type": "execute_result",
          "data": {
            "text/plain": [
              "'Python'"
            ],
            "application/vnd.google.colaboratory.intrinsic+json": {
              "type": "string"
            }
          },
          "metadata": {},
          "execution_count": 21
        }
      ]
    },
    {
      "cell_type": "code",
      "source": [
        "nom = \" Moussa \"\n",
        "nom\n",
        "nom.strip()"
      ],
      "metadata": {
        "colab": {
          "base_uri": "https://localhost:8080/",
          "height": 35
        },
        "id": "o6_M_Ft1-Bno",
        "outputId": "4b2e27e5-d577-492f-e3c0-ddc7813ca6ec"
      },
      "execution_count": 23,
      "outputs": [
        {
          "output_type": "execute_result",
          "data": {
            "text/plain": [
              "'Moussa'"
            ],
            "application/vnd.google.colaboratory.intrinsic+json": {
              "type": "string"
            }
          },
          "metadata": {},
          "execution_count": 23
        }
      ]
    },
    {
      "cell_type": "code",
      "source": [
        "message = \"Salut Mohamed, comment vous allez?\"\n",
        "print(message)"
      ],
      "metadata": {
        "colab": {
          "base_uri": "https://localhost:8080/"
        },
        "id": "zyMw2lgv-36E",
        "outputId": "9b9de596-28a8-42d2-e4a1-d9411eff5b22"
      },
      "execution_count": 24,
      "outputs": [
        {
          "output_type": "stream",
          "name": "stdout",
          "text": [
            "Salut Mohamed, comment vous allez?\n"
          ]
        }
      ]
    },
    {
      "cell_type": "code",
      "source": [
        "nom = \"mohamed coulibaly\"\n",
        "print(nom.upper())\n",
        "print(nom.lower())\n",
        "print(nom.title())"
      ],
      "metadata": {
        "colab": {
          "base_uri": "https://localhost:8080/"
        },
        "id": "1jF5B-Hr_oRP",
        "outputId": "65d1e92a-2a02-4eb3-9829-c6d912ac632e"
      },
      "execution_count": 26,
      "outputs": [
        {
          "output_type": "stream",
          "name": "stdout",
          "text": [
            "MOHAMED COULIBALY\n",
            "mohamed coulibaly\n",
            "Mohamed Coulibaly\n"
          ]
        }
      ]
    },
    {
      "cell_type": "code",
      "source": [
        "message = \" Mohamed \"\n",
        "print(message)\n"
      ],
      "metadata": {
        "colab": {
          "base_uri": "https://localhost:8080/"
        },
        "id": "Q1Z1X3xjBkDJ",
        "outputId": "d1a1e9dc-961c-40c2-b5dc-957df7e0ec5f"
      },
      "execution_count": 29,
      "outputs": [
        {
          "output_type": "stream",
          "name": "stdout",
          "text": [
            " Mohamed \n"
          ]
        }
      ]
    },
    {
      "cell_type": "code",
      "source": [
        "message = \" Mohamed \"\n",
        "print(message.strip())"
      ],
      "metadata": {
        "colab": {
          "base_uri": "https://localhost:8080/"
        },
        "id": "MOWYlDynGz_u",
        "outputId": "06f22fa1-e395-4ff4-a0b4-766c377923b9"
      },
      "execution_count": 31,
      "outputs": [
        {
          "output_type": "stream",
          "name": "stdout",
          "text": [
            "Mohamed\n"
          ]
        }
      ]
    },
    {
      "cell_type": "code",
      "source": [
        "message = \" Mohamed \"\n",
        "print(message.strip())"
      ],
      "metadata": {
        "colab": {
          "base_uri": "https://localhost:8080/"
        },
        "id": "2Yg6FycDIHjJ",
        "outputId": "afddc7d2-b94d-468e-e771-fa03ca2b9fc7"
      },
      "execution_count": 33,
      "outputs": [
        {
          "output_type": "stream",
          "name": "stdout",
          "text": [
            "Mohamed\n"
          ]
        }
      ]
    },
    {
      "cell_type": "code",
      "source": [
        "nom = \" \\tmohamad moustapha\\n \"\n",
        "print(\"\\nSans modification:\")\n",
        "print(nom)\n",
        "print(\"Avec lstrip():\")\n",
        "print(nom.lstrip())\n",
        "print(\"Avec rstrip():\")\n",
        "print(nom.rstrip())\n",
        "print(\"Avec strip():\")\n",
        "print(nom.strip())\n"
      ],
      "metadata": {
        "colab": {
          "base_uri": "https://localhost:8080/"
        },
        "id": "qa5TysdSIhgv",
        "outputId": "419a2980-a9ef-492d-d92e-7f2b1f86970b"
      },
      "execution_count": 40,
      "outputs": [
        {
          "output_type": "stream",
          "name": "stdout",
          "text": [
            "\n",
            "Sans modification:\n",
            " \tmohamad moustapha\n",
            " \n",
            "Avec lstrip():\n",
            "mohamad moustapha\n",
            " \n",
            "Avec rstrip():\n",
            " \tmohamad moustapha\n",
            "Avec strip():\n",
            "mohamad moustapha\n"
          ]
        }
      ]
    },
    {
      "cell_type": "code",
      "source": [
        "age = 23\n",
        "message = \"Joyeux \" + str(age) + \" ème aniversaire!\"\n",
        "print(message)"
      ],
      "metadata": {
        "colab": {
          "base_uri": "https://localhost:8080/"
        },
        "id": "EhbcppyyNYpf",
        "outputId": "61569940-dcc3-44e1-9418-02c46c646b20"
      },
      "execution_count": 46,
      "outputs": [
        {
          "output_type": "stream",
          "name": "stdout",
          "text": [
            "Joyeux 23 ème aniversaire!\n"
          ]
        }
      ]
    }
  ]
}